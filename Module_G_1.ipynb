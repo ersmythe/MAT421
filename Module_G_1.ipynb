{
  "nbformat": 4,
  "nbformat_minor": 0,
  "metadata": {
    "colab": {
      "provenance": [],
      "authorship_tag": "ABX9TyPAXKNw8luvpU9OgD8Vc/mk",
      "include_colab_link": true
    },
    "kernelspec": {
      "name": "python3",
      "display_name": "Python 3"
    },
    "language_info": {
      "name": "python"
    }
  },
  "cells": [
    {
      "cell_type": "markdown",
      "metadata": {
        "id": "view-in-github",
        "colab_type": "text"
      },
      "source": [
        "<a href=\"https://colab.research.google.com/github/ersmythe/MAT421/blob/main/Module_G_1.ipynb\" target=\"_parent\"><img src=\"https://colab.research.google.com/assets/colab-badge.svg\" alt=\"Open In Colab\"/></a>"
      ]
    },
    {
      "cell_type": "markdown",
      "source": [
        "# 21.1 Numerical Integration Problem Statement\n",
        "The integral of a function over a certain interval [a, b] is the area under the curve. When solving this numerically, we assume the interval has been turned into a grid, x, with n+1 points spaced $h=\\frac{b-a}{n}$ apart. Each point is called $x_i$ such that $x_0=a$ and $x_n=b$. To perform numerical integration, we need to assume we have a function f(x) with a solution at each of the grid points. This method uses subintervals, which are written as $[x_i, x_{i+1}]$. The resulting problem is to solve for $∫_a^b f(x) \\,dx$."
      ],
      "metadata": {
        "id": "7xLk11xiObQg"
      }
    },
    {
      "cell_type": "markdown",
      "source": [
        "# 21.2 Riemanns Integral\n",
        "The simplest numerical integration method is the Riemann Integral approximation, which sums the area of rectangles under the curve. This can be done from the left or right endpoint of the subinterval. The accuracy of this method is O(h) (first order). See the Reimann Integrals for f(x) = sin(x) from 0 to pi below."
      ],
      "metadata": {
        "id": "SsZFbUhlgbU1"
      }
    },
    {
      "cell_type": "code",
      "execution_count": 2,
      "metadata": {
        "colab": {
          "base_uri": "https://localhost:8080/"
        },
        "id": "1nMsZsHoOYng",
        "outputId": "4dea7829-2b3f-44f3-8bf5-1195e3891752"
      },
      "outputs": [
        {
          "output_type": "stream",
          "name": "stdout",
          "text": [
            "Left riemann integral is  1.9835235375094546\n",
            "Left riemann error is  0.01647646249054535\n",
            "Right riemann integral is  1.9835235375094546\n",
            "Right riemann error is  0.01647646249054535\n"
          ]
        }
      ],
      "source": [
        "import numpy as np\n",
        "\n",
        "a = 0\n",
        "b = np.pi\n",
        "n = 11\n",
        "h = (b - a) / (n - 1)\n",
        "x = np.linspace(a, b, n)\n",
        "f = np.sin(x)\n",
        "\n",
        "L_riemann = h*sum(f[:n-1])\n",
        "err_L_riemann = 2 - L_riemann\n",
        "\n",
        "R_riemann = h*sum(f[1::])\n",
        "err_R_riemann = 2 - R_riemann\n",
        "\n",
        "print(\"Left riemann integral is \", L_riemann)\n",
        "print(\"Left riemann error is \", err_L_riemann)\n",
        "\n",
        "print(\"Right riemann integral is \", R_riemann)\n",
        "print(\"Right riemann error is \", err_R_riemann)"
      ]
    },
    {
      "cell_type": "markdown",
      "source": [
        "We can also use rectangles with a height equal to the midpoint of the subinterval; this is called the Midpoint Rule. The height is written as $h=y_i=\\frac{x_{i+1}+x_i}{2}$. This has an accuracy of $O(h^2)$ over the whole interval. See the same example done with the Midpoint Rule below."
      ],
      "metadata": {
        "id": "puDJx8Z5jiJD"
      }
    },
    {
      "cell_type": "code",
      "source": [
        "import numpy as np\n",
        "\n",
        "a = 0\n",
        "b = np.pi\n",
        "n = 11\n",
        "h = (b - a) / (n - 1)\n",
        "x = np.linspace(a, b, n)\n",
        "\n",
        "MidpointI = h*sum(np.sin((x[:n-1] + x[1:])/2))\n",
        "err_mid = 2-MidpointI\n",
        "\n",
        "print(\"Midpoint integral is \", MidpointI)\n",
        "print(\"Midpoint error is \", err_mid)"
      ],
      "metadata": {
        "colab": {
          "base_uri": "https://localhost:8080/"
        },
        "id": "_xISCeQkkf35",
        "outputId": "9802a8a6-87ba-450f-944a-3885daee068a"
      },
      "execution_count": 8,
      "outputs": [
        {
          "output_type": "stream",
          "name": "stdout",
          "text": [
            "Midpoint integral is  2.0082484079079745\n",
            "Midpoint error is  -0.008248407907974542\n"
          ]
        }
      ]
    },
    {
      "cell_type": "markdown",
      "source": [
        "# 21.3 Trapezoid Rule\n",
        "Another method is to turn each subinterval into a trapezoid such that the side on the top shares endpoints with the function. This approximation results in this equation: $\\int_a^b f(x) \\,dx ≃ \\frac{h}{2}(f(x_0)+2(∑_{i=1}^{n-1} f(x_i))+f(x_n))$. The accuracy of this method is $O(h^2)$ over the whole interval. See the previous code example solved using the Trapezoid Rule below:"
      ],
      "metadata": {
        "id": "RoCZoZFJmtum"
      }
    },
    {
      "cell_type": "code",
      "source": [
        "import numpy as np\n",
        "\n",
        "a = 0\n",
        "b = np.pi\n",
        "n = 11\n",
        "h = (b - a) / (n - 1)\n",
        "x = np.linspace(a, b, n)\n",
        "f = np.sin(x)\n",
        "\n",
        "trapezoid = (h/2)*(f[0] + 2*sum(f[1:n-1]) + f[-1])\n",
        "err_trapezoid = 2 - trapezoid\n",
        "\n",
        "print(\"Trapezoid integral is \", trapezoid)\n",
        "print(\"Trapezoid error is \", err_trapezoid)"
      ],
      "metadata": {
        "colab": {
          "base_uri": "https://localhost:8080/"
        },
        "id": "whfra6GPn6iR",
        "outputId": "2f208f07-0fc3-4c7a-9a87-832cf6847769"
      },
      "execution_count": 9,
      "outputs": [
        {
          "output_type": "stream",
          "name": "stdout",
          "text": [
            "Trapezoid integral is  1.9835235375094546\n",
            "Trapezoid error is  0.01647646249054535\n"
          ]
        }
      ]
    }
  ]
}