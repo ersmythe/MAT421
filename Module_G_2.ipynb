{
  "nbformat": 4,
  "nbformat_minor": 0,
  "metadata": {
    "colab": {
      "provenance": [],
      "authorship_tag": "ABX9TyMz/PCIC6cwRGMdvgtZBVbo",
      "include_colab_link": true
    },
    "kernelspec": {
      "name": "python3",
      "display_name": "Python 3"
    },
    "language_info": {
      "name": "python"
    }
  },
  "cells": [
    {
      "cell_type": "markdown",
      "metadata": {
        "id": "view-in-github",
        "colab_type": "text"
      },
      "source": [
        "<a href=\"https://colab.research.google.com/github/ersmythe/MAT421/blob/main/Module_G_2.ipynb\" target=\"_parent\"><img src=\"https://colab.research.google.com/assets/colab-badge.svg\" alt=\"Open In Colab\"/></a>"
      ]
    },
    {
      "cell_type": "markdown",
      "source": [
        "# 21.4 Simpson's Rule\n",
        "Simpson's rule takes two consecutive subintervals at a time ($[x_{i-1},x_i]$ and $[x_i,x_{i+1}]$), and fits a quadratic polynomial through the end points $(x_{i-1}, f(x_{i-1})), (x_i,f(x_i)),$ and $(x_{i+1}, f(x_{i+1}))$. It then integrates this function across the two subintervals. Simpson's rule requires an even number of subintervals (and therefore an odd number of grid points). This method has a fourth degree accuracy!"
      ],
      "metadata": {
        "id": "AWKAJsJUdzsY"
      }
    },
    {
      "cell_type": "code",
      "execution_count": 2,
      "metadata": {
        "colab": {
          "base_uri": "https://localhost:8080/"
        },
        "id": "f6Fa-qaCddUs",
        "outputId": "92c49335-0bf0-4080-f55a-5e8efcb9dba8"
      },
      "outputs": [
        {
          "output_type": "stream",
          "name": "stdout",
          "text": [
            "Simpson's integral is  2.0001095173150043\n",
            "Simpson's error is  -0.00010951731500430384\n"
          ]
        }
      ],
      "source": [
        "import numpy as np\n",
        "\n",
        "a = 0\n",
        "b = np.pi\n",
        "n = 11\n",
        "h = (b - a) / (n - 1)\n",
        "x = np.linspace(a, b, n)\n",
        "f = np.sin(x)\n",
        "\n",
        "Simpson = (h/3) * (f[0] + 2*sum(f[:n-2:2]) + 4*sum(f[1:n-1:2]) + f[n-1])\n",
        "\n",
        "err_simpson = 2 - Simpson\n",
        "\n",
        "print(\"Simpson's integral is \", Simpson)\n",
        "print(\"Simpson's error is \", err_simpson)"
      ]
    },
    {
      "cell_type": "markdown",
      "source": [
        "# 21.5 Computing Integrals in Python\n",
        "Python has a sub-package called scipy.integrate that can compute integrals:"
      ],
      "metadata": {
        "id": "naGu73PFhByz"
      }
    },
    {
      "cell_type": "code",
      "source": [
        "import numpy as np\n",
        "from scipy.integrate import trapezoid\n",
        "\n",
        "a = 0\n",
        "b = np.pi\n",
        "n = 11\n",
        "h = (b - a) / (n - 1)\n",
        "x = np.linspace(a, b, n)\n",
        "f = np.sin(x)\n",
        "\n",
        "I_trapz = trapezoid(f, x)\n",
        "trapezoid = (h/2)*(f[0] + 2*sum(f[1:n-1]) + f[-1])\n",
        "\n",
        "\n",
        "print(\"trapz integral is \", I_trapz)\n",
        "print(\"trapezoid integral is \", trapezoid)\n",
        "\n",
        "from scipy.integrate import quad\n",
        "I_quad, est_err_quad = quad(np.sin, 0, np.pi)\n",
        "print(\"quad integral is \", I_quad)\n",
        "print(\"estimated quad error is \", est_err_quad)\n",
        "print(\"quad error is \", 2-I_quad)"
      ],
      "metadata": {
        "colab": {
          "base_uri": "https://localhost:8080/"
        },
        "id": "aetSpFqqhOTi",
        "outputId": "ec203a7e-7365-4333-f4dd-209047d7637c"
      },
      "execution_count": 11,
      "outputs": [
        {
          "output_type": "stream",
          "name": "stdout",
          "text": [
            "trapz integral is  1.9835235375094544\n",
            "trapezoid integral is  1.9835235375094546\n",
            "quad integral is  2.0\n",
            "estimated quad error is  2.220446049250313e-14\n",
            "quad error is  0.0\n"
          ]
        }
      ]
    }
  ]
}