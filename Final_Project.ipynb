{
  "nbformat": 4,
  "nbformat_minor": 0,
  "metadata": {
    "colab": {
      "provenance": [],
      "include_colab_link": true
    },
    "kernelspec": {
      "name": "python3",
      "display_name": "Python 3"
    },
    "language_info": {
      "name": "python"
    }
  },
  "cells": [
    {
      "cell_type": "markdown",
      "metadata": {
        "id": "view-in-github",
        "colab_type": "text"
      },
      "source": [
        "<a href=\"https://colab.research.google.com/github/ersmythe/MAT421/blob/main/Final_Project.ipynb\" target=\"_parent\"><img src=\"https://colab.research.google.com/assets/colab-badge.svg\" alt=\"Open In Colab\"/></a>"
      ]
    },
    {
      "cell_type": "markdown",
      "source": [
        "## I. Introduction to the Problem\n",
        "Breast cancer is extremely pervasive in the United States. It is the most common type of cancer for women, and makes up roughly one third of all new cancer diagnoses. Breast cancer can be difficult to diagnose, because many of the common tests are only as accurate as the doctor who visually assesses them (Tsochatzidis et al, 2019).\n",
        "\n",
        "Generally, the first test for breast cancer is a mammogram. If it comes back positive, the patient often has a Fine Needle Aspirate (FNA) test. This is a type of biopsy that takes fluid and tissue from breast lesions in a minimally-invasive outpatient procedure. Then, a professional looks at the sample under a microscope and visually determines the results (Casaubon et al, 2023). Similarly to mammograms, FNA has a wide range of accuracy based on the practitioner inspecting the sample. One study found that humans are able to correctly identify malignant tumors with this method 65% - 98% of the time (Sizilio et al, 2012). This inconsistency can cause issues for patients, who either undergo more serious procedures unnecessarily, or risk allowing legitimate cancer to spread.\n",
        "\n",
        "The objective of this research is to provide a more consistent way to accurately diagnose breast cancer based on fine needle aspirate data. This would reduce the variable accuracy caused by human interpretation. One study already made a prediction model using fuzzy logic (Sizilio et al, 2012). This was very effective, but it is worth researching further to see if a simpler model (like linear regression) can achieve the same level of accuracy. If a model can perform the same, but using less features of the FNA images, it would require less human measurements for input, and would thus save time.\n"
      ],
      "metadata": {
        "id": "PVawyQ_EpIr8"
      }
    },
    {
      "cell_type": "markdown",
      "source": [
        "## II. Related Work\n",
        "\n",
        "As mentioned in the introduction, mammograms are often the first line of diagnosis for breast cancer. Mammograms take an image of the breasts, and from that a radiologist determines if a mass is benign or malignant. One study looked into using deep learning to diagnose based on these images. One benefit of deep learning is that it can determine what features are useful itself, without needing experts to weigh in. This study specifically compared different convolutional neural networks (CNNs). The researchers tested each CNN in two ways: as a pre-trained model that was being fine-tuned, and as a model training from scratch. Their best model was pre-trained ResNet-101, which had an accuracy of 0.785 for one data set, and 0.753 for the other. This study directly used the mammogram images as input data, rather than discrete measurements from the photos (Tsochatzidis et al, 2019).\n",
        "\n",
        "Another study used the same data as this research. It used measurements of certain features in FNA images as the input, and analyzed it with fuzzy logic. Unlike deep learning, fuzzy logic requires a Rules Base formed by specialist input or numerical data. This method split each feature into two descriptors, e.g. perimeter was split into “smaller” and “larger.” Each data point was then defined as a mix of those two descriptors, with the weighting going from 0 to 1. Then, rules were defined to assess these off of. For example, one was, “If smaller area and smaller perimeter and more uniform and more homogenous, then benign diagnosis.” This was refined by adjusting the membership functions, which are the graphs showing the split of two descriptors for each feature. At the end of this process, the best model had a sensitivity of 98.59% and a specificity of 85.43% (Sizilio et al, 2012). Though this process was effective, it did require expert input. This research project is interested to see if a more simple model can perform comparatively, with less expertise and human input.\n"
      ],
      "metadata": {
        "id": "nZtoNEcLpbD0"
      }
    },
    {
      "cell_type": "markdown",
      "source": [
        "## III. Propsed Methodology and Models\n",
        "\n",
        "#### A. Methodology\n",
        "To further the predictive models of breast cancer masses, the team proposes developing a linear regression model (from the SciKit library) trained on 30 different FNA imaging features to diagnose malignant versus benign masses. The data set used will be split into two halves, one to train the model and another to evaluate its efficacy. To convert the diagnosis data to something trainable, all data points which are labeled malignant will be replaced with a one, and benign data will be replaced with a zero. Then, the model's output will range from zero to one - indicating how confident it is in its diagnosis. Initially, the cutoff for diagnosis will be at 0.5. However, further trials will vary this cutoff and evaluate efficacies at different values.\n",
        "\n",
        "After an optimal cutoff has been set, the team will then seek to minimize the number of input parameters needed to achieve sufficient efficacy. This will be driven through the p-values of each variable, to determine their impact on diagnostic accuracy.\n",
        "\n",
        "#### B. Data Collection\n",
        "\n",
        "The data used for this project comes from the diagnostic Wisconsin Breast Cancer Database. It contains features measured from a digital image of a fine needle aspirate (FNA) of a breast mass. The features include diagnosis, radius, texture, perimeter, area, smoothness, compactness, concavity, concave points, symmetry, and fractal dimension.\n",
        "\n",
        "#### C. Analysis Plan\n",
        "\n",
        "This linear regression model will be evaluated on two key parameters, sensitivity and specificity. Sensitivity refers to a model's ability to identify true positives. And specificity refers to the model's ability to identify true negatives. These two metrics can be compared against previous models to determine how the linear regression model compares. Additionally, during internal trials adapting the cutoff value and feature cutting, sensitivity and specificity will be again used as criterion for which models perform better.\n",
        "\n"
      ],
      "metadata": {
        "id": "90H7JYCwpm1X"
      }
    },
    {
      "cell_type": "markdown",
      "source": [
        "## IV. Experiment Setup\n",
        "This experiment is being conducted in two phases. First, the cutoff value will be set at 10 evenly spaced values between zero and one. The test data will then be analyzed, yielding specificity and sensitivity data for each cutoff. From there, each value can be compared to find what cutoff yields the most effective model.\n",
        "\n",
        "Second, the p-value of each variable will be tabulated using the statsmodel library. The least impactful feature will be continually removed and the model re-evaluated until the model drops below 65% average specificity and sensitivity (the minimum accuracy of a human predictor), or the model loses more than 2% due to the removal of a single factor.\n"
      ],
      "metadata": {
        "id": "wvu6TwohqMNY"
      }
    },
    {
      "cell_type": "markdown",
      "source": [
        "## V. Expected Results\n",
        "Preliminary testing has proven that a linear regression model is capable of consistently predicting individual cases. As such, the team believes an efficacy similar to that of trained physicians at 80%. It is expected that the most accurate results will come at a cutoff value of 0.5. And the team aims to decrease necessary input features by 25%, with minimal losses in accuracy."
      ],
      "metadata": {
        "id": "bbpvr1yLqSAK"
      }
    },
    {
      "cell_type": "markdown",
      "source": [
        "## VI. Preliminary Code\n",
        "\n",
        "Shown below is the preliminary code for creating a linear regression model on the specified dataset. While it is not currently running, as file access is being worked on, its preliminary tests show positive results."
      ],
      "metadata": {
        "id": "THxNCYftqdsJ"
      }
    },
    {
      "cell_type": "code",
      "execution_count": null,
      "metadata": {
        "id": "22sltIcQTiT9"
      },
      "outputs": [],
      "source": [
        "import numpy as np\n",
        "import pandas as pd\n",
        "from sklearn import linear_model\n",
        "\n",
        "path= \"/content/data_421/data.csv\"\n",
        "df = pd.read_csv(path)\n",
        "\n",
        "# Calculate the midpoint of the DataFrame\n",
        "midpoint = len(df) // 2\n",
        "\n",
        "# Split the DataFrame into two halves\n",
        "df_1 = df[:midpoint]\n",
        "df_2 = df[midpoint:]\n",
        "\n",
        "diag = df_2['diagnosis'].values\n",
        "\n",
        "for i, n in enumerate(diag):\n",
        "  if n == 'M':\n",
        "    diag[i] = 1\n",
        "  else:\n",
        "    diag[i] = 0\n",
        "\n",
        "reg = linear_model.LinearRegression()\n",
        "reg.fit(df_2[['radius_mean', 'texture_mean', 'perimeter_mean']], diag)\n",
        "\n",
        "print(reg.coef_)\n",
        "print(reg.summary())\n",
        "\n",
        "print(reg.predict([[17.99,10.38,122.8]]))\n",
        "print(reg.predict([[13.54,14.36,87.46]]))\n"
      ]
    },
    {
      "cell_type": "markdown",
      "source": [
        "# References\n",
        "\n",
        "Casaubon, J. T. (2023, July 23). Fine needle aspiration of breast masses.   StatPearls [Internet]. https://www.ncbi.nlm.nih.gov/books/NBK470268/\n",
        "\n",
        "Sizilio, G. R., Leite, C. R., Guerreiro, A. M., & Neto, A. D. D. (2012, November 2). Fuzzy method for pre-diagnosis of breast cancer from the fine needle aspirate analysis - biomedical engineering online. BioMedical Engineering Online. https://biomedical-engineering-online.biomedcentral.com/articles/10.1186/1475-925X-11-83\n",
        "\n",
        "Tsochatzidis, L., Costaridou, L., & Pratikakis, I. (2019). Deep learning for breast cancer diagnosis from mammograms—a comparative study. Journal of Imaging, 5(3), 37. https://doi.org/10.3390/jimaging5030037"
      ],
      "metadata": {
        "id": "FY1YhlmTuplK"
      }
    }
  ]
}