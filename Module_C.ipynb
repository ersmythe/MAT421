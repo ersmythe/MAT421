{
  "nbformat": 4,
  "nbformat_minor": 0,
  "metadata": {
    "colab": {
      "provenance": [],
      "authorship_tag": "ABX9TyO72StPwrl0A8cD3mnxQNyl",
      "include_colab_link": true
    },
    "kernelspec": {
      "name": "python3",
      "display_name": "Python 3"
    },
    "language_info": {
      "name": "python"
    }
  },
  "cells": [
    {
      "cell_type": "markdown",
      "metadata": {
        "id": "view-in-github",
        "colab_type": "text"
      },
      "source": [
        "<a href=\"https://colab.research.google.com/github/ersmythe/MAT421/blob/main/Module_C.ipynb\" target=\"_parent\"><img src=\"https://colab.research.google.com/assets/colab-badge.svg\" alt=\"Open In Colab\"/></a>"
      ]
    },
    {
      "cell_type": "markdown",
      "source": [
        "# 19.1 Root Finding Problem Statement\n",
        "A root or zero of a function is a value of x such that f(x)=0. It can be especially hard to find a root for nonlinear functions, like those including trigonometric functions.\n"
      ],
      "metadata": {
        "id": "MwRgh3xUByHu"
      }
    },
    {
      "cell_type": "code",
      "source": [
        "# Find the root of f(x)=cos(x)-x near -3\n",
        "import numpy as np\n",
        "from scipy import optimize\n",
        "\n",
        "f = lambda x: np.cos(x) - x\n",
        "r = optimize.fsolve(f, -3)\n",
        "print('r =', r)\n",
        "\n",
        "result = f(r)\n",
        "print(\"result=\", result)"
      ],
      "metadata": {
        "colab": {
          "base_uri": "https://localhost:8080/"
        },
        "id": "_cjL7KZ3C7Xf",
        "outputId": "8d860962-b391-44e5-e7a5-cb3c6aefbfe7"
      },
      "execution_count": 1,
      "outputs": [
        {
          "output_type": "stream",
          "name": "stdout",
          "text": [
            "r = [0.73908513]\n",
            "result= [2.55351296e-15]\n"
          ]
        }
      ]
    },
    {
      "cell_type": "code",
      "source": [
        "# Try to find the root of f(x)=1/x (a function with no root)\n",
        "import numpy as np\n",
        "from scipy import optimize\n",
        "\n",
        "f = lambda x: 1/x\n",
        "\n",
        "r, infodict, ier, mesg = optimize.fsolve(f, -3, full_output=True)\n",
        "print(\"r =\", r)\n",
        "\n",
        "result = f(r)\n",
        "print(\"result =\", result)\n",
        "print(mesg)"
      ],
      "metadata": {
        "colab": {
          "base_uri": "https://localhost:8080/"
        },
        "id": "7OYv7VAaEXFI",
        "outputId": "2b16baa1-7b5e-4268-9e5d-91a88e2bd248"
      },
      "execution_count": 3,
      "outputs": [
        {
          "output_type": "stream",
          "name": "stdout",
          "text": [
            "r = [-5.28071038e+83]\n",
            "result = [-1.89368461e-84]\n",
            "The number of calls to function has reached maxfev = 400.\n"
          ]
        }
      ]
    },
    {
      "cell_type": "markdown",
      "source": [
        "# 19.2 Tolerance\n",
        "'Error' is deviation from the value we expect or predict. Tolerance is the level of error we can allow. A computer program has converged once the error is smaller than the tolerance. Two methods to evaluate the error of computed roots are to use the absolute value of f(x) (since we want this as low as possible), or to take the difference between the current iteration value and subsequent one: abs(xi+1 - xi)"
      ],
      "metadata": {
        "id": "o14gIT4aFDMq"
      }
    },
    {
      "cell_type": "markdown",
      "source": [
        "# 19.3 Bisection Method\n",
        "Per the intermediate value theorem, if there is a continuous function f(x) between a and b, and the signs of f(a) and f(b) are opposite, there is some value of x for which f(x)=0.\n",
        "\n",
        "The bisection method iterates on this principle to find roots. It takes the same setup with f(a)>0 and f(b)<0 and finds the midpoint between a and b, m = (a+b)/2. If f(m)=0 or is within the tolerance, m is the solution. If f(m)>0, then m is closer to the root, and the new interval goes from m to b. If f(m)<0, then there must be a root on the segment from a to m. This repeats until f(m) is within the specified tolerance."
      ],
      "metadata": {
        "id": "Sfxrfcg5G0Up"
      }
    },
    {
      "cell_type": "code",
      "source": [
        "import numpy as np\n",
        "\n",
        "def my_bisection(f, a, b, tol):\n",
        "  if np.sign(f(a)) == np.sign(f(b)):\n",
        "    raise Exception(\n",
        "        \"The scalars a and b do not bound a root\")\n",
        "\n",
        "  m = (a + b)/2\n",
        "\n",
        "  if np.abs(f(m)) < tol:\n",
        "    return m\n",
        "  elif np.sign(f(a)) == np.sign(f(m)):\n",
        "    return my_bisection(f, m, b, tol)\n",
        "  elif np.sign(f(b)) == np.sign(f(m)):\n",
        "    return my_bisection(f, a, m, tol)\n",
        "\n",
        "#Use this function to find the root of f(x) = x^2 - 2, starting at a=0 and b=2\n",
        "# With a tolerance of abs(f(x)) < 0.1:\n",
        "f = lambda x: x**2 - 2\n",
        "\n",
        "r1 = my_bisection(f, 0, 2, 0.1)\n",
        "print(\"r1 =\", r1)\n",
        "\n",
        "# With a tolerance of abs(f(x)) < 0.01\n",
        "r01 = my_bisection(f, 0, 2, 0.01)\n",
        "print(\"ro1 =\", r01)\n",
        "\n",
        "print(\"f(r1) =\", f(r1))\n",
        "print(\"f(r01) =\", f(r01))\n",
        "\n",
        "# Try the same problem from 2 to 4 (where there is no root)\n",
        "my_bisection(f, 2, 4, 0.01)\n",
        ""
      ],
      "metadata": {
        "colab": {
          "base_uri": "https://localhost:8080/",
          "height": 384
        },
        "id": "43VReYHnIddt",
        "outputId": "a9d1ea9e-aaf7-4d40-8b15-657f8f61d1a8"
      },
      "execution_count": 5,
      "outputs": [
        {
          "output_type": "stream",
          "name": "stdout",
          "text": [
            "r1 = 1.4375\n",
            "ro1 = 1.4140625\n",
            "f(r1) = 0.06640625\n",
            "f(r01) = -0.00042724609375\n"
          ]
        },
        {
          "output_type": "error",
          "ename": "Exception",
          "evalue": "The scalars a and b do not bound a root",
          "traceback": [
            "\u001b[0;31m---------------------------------------------------------------------------\u001b[0m",
            "\u001b[0;31mException\u001b[0m                                 Traceback (most recent call last)",
            "\u001b[0;32m<ipython-input-5-94686e49d397>\u001b[0m in \u001b[0;36m<cell line: 0>\u001b[0;34m()\u001b[0m\n\u001b[1;32m     30\u001b[0m \u001b[0;34m\u001b[0m\u001b[0m\n\u001b[1;32m     31\u001b[0m \u001b[0;31m# Try the same problem from 2 to 4 (where there is no root)\u001b[0m\u001b[0;34m\u001b[0m\u001b[0;34m\u001b[0m\u001b[0m\n\u001b[0;32m---> 32\u001b[0;31m \u001b[0mmy_bisection\u001b[0m\u001b[0;34m(\u001b[0m\u001b[0mf\u001b[0m\u001b[0;34m,\u001b[0m \u001b[0;36m2\u001b[0m\u001b[0;34m,\u001b[0m \u001b[0;36m4\u001b[0m\u001b[0;34m,\u001b[0m \u001b[0;36m0.01\u001b[0m\u001b[0;34m)\u001b[0m\u001b[0;34m\u001b[0m\u001b[0;34m\u001b[0m\u001b[0m\n\u001b[0m\u001b[1;32m     33\u001b[0m \u001b[0;34m\u001b[0m\u001b[0m\n",
            "\u001b[0;32m<ipython-input-5-94686e49d397>\u001b[0m in \u001b[0;36mmy_bisection\u001b[0;34m(f, a, b, tol)\u001b[0m\n\u001b[1;32m      3\u001b[0m \u001b[0;32mdef\u001b[0m \u001b[0mmy_bisection\u001b[0m\u001b[0;34m(\u001b[0m\u001b[0mf\u001b[0m\u001b[0;34m,\u001b[0m \u001b[0ma\u001b[0m\u001b[0;34m,\u001b[0m \u001b[0mb\u001b[0m\u001b[0;34m,\u001b[0m \u001b[0mtol\u001b[0m\u001b[0;34m)\u001b[0m\u001b[0;34m:\u001b[0m\u001b[0;34m\u001b[0m\u001b[0;34m\u001b[0m\u001b[0m\n\u001b[1;32m      4\u001b[0m   \u001b[0;32mif\u001b[0m \u001b[0mnp\u001b[0m\u001b[0;34m.\u001b[0m\u001b[0msign\u001b[0m\u001b[0;34m(\u001b[0m\u001b[0mf\u001b[0m\u001b[0;34m(\u001b[0m\u001b[0ma\u001b[0m\u001b[0;34m)\u001b[0m\u001b[0;34m)\u001b[0m \u001b[0;34m==\u001b[0m \u001b[0mnp\u001b[0m\u001b[0;34m.\u001b[0m\u001b[0msign\u001b[0m\u001b[0;34m(\u001b[0m\u001b[0mf\u001b[0m\u001b[0;34m(\u001b[0m\u001b[0mb\u001b[0m\u001b[0;34m)\u001b[0m\u001b[0;34m)\u001b[0m\u001b[0;34m:\u001b[0m\u001b[0;34m\u001b[0m\u001b[0;34m\u001b[0m\u001b[0m\n\u001b[0;32m----> 5\u001b[0;31m     raise Exception(\n\u001b[0m\u001b[1;32m      6\u001b[0m         \"The scalars a and b do not bound a root\")\n\u001b[1;32m      7\u001b[0m \u001b[0;34m\u001b[0m\u001b[0m\n",
            "\u001b[0;31mException\u001b[0m: The scalars a and b do not bound a root"
          ]
        }
      ]
    },
    {
      "cell_type": "markdown",
      "source": [
        "This error is expected, the code did not find a root because there isn't one within that interval."
      ],
      "metadata": {
        "id": "fYmehce6QAoN"
      }
    },
    {
      "cell_type": "markdown",
      "source": [
        "# 19.4 Newton-Raphson Method\n",
        "Suppose f(x) is a smooth function with unknown root xr. We can guess that x0=xr (an arbitrary value). If x0 is not the root, we can take the linear approximation of f(x) at x0, and find the point where this line intersects with the x-axis. This linear approximation takes the form f(x) = f(x0) + f'(x0)(x1-x0). We solve for x1 such that f(x)=0, and this becomes our next guess. The equation for an improved guess (xi) based on a previous guess (x(i-1)) is xi = x(i-1) - g(x(i-1))/g'(x(i-1)). This iterates until the error is below the tolerance."
      ],
      "metadata": {
        "id": "MK_ctoVNKqTp"
      }
    },
    {
      "cell_type": "code",
      "source": [
        "# Find the root of f(x) = x^2 - 2\n",
        "import numpy as np\n",
        "\n",
        "f = lambda x: x**2 - 2\n",
        "f_prime = lambda x: 2*x\n",
        "newton_raphson = 1.4 - (f(1.4))/(f_prime(1.4))\n",
        "\n",
        "print(\"newton_raphson =\", newton_raphson)\n",
        "print(\"sqrt(2) =\", np.sqrt(2))"
      ],
      "metadata": {
        "colab": {
          "base_uri": "https://localhost:8080/"
        },
        "id": "nNbgnJQQMNnR",
        "outputId": "03308519-b02e-4ca6-ed84-b264fbe02538"
      },
      "execution_count": 6,
      "outputs": [
        {
          "output_type": "stream",
          "name": "stdout",
          "text": [
            "newton_raphson = 1.4142857142857144\n",
            "sqrt(2) = 1.4142135623730951\n"
          ]
        }
      ]
    },
    {
      "cell_type": "code",
      "source": [
        "# Function for iterative Newton-Raphson Method\n",
        "def my_newton(f, df, x0, tol):\n",
        "  if abs(f(x0)) < tol:\n",
        "    return x0\n",
        "  else:\n",
        "    return my_newton(f, df, x0 - f(x0)/df(x0), tol)\n",
        "\n",
        "import numpy as np\n",
        "\n",
        "f = lambda x: x**2 - 2\n",
        "f_prime = lambda x: 2*x\n",
        "\n",
        "estimate = my_newton(f, f_prime, 1.5, 1e-6)\n",
        "print(\"estimate =\", estimate)\n",
        "print(\"sqrt(2) =\", np.sqrt(2))"
      ],
      "metadata": {
        "colab": {
          "base_uri": "https://localhost:8080/"
        },
        "id": "srM650XLKP7I",
        "outputId": "e02b8ecb-632f-4b88-c868-d4799343cc7b"
      },
      "execution_count": 7,
      "outputs": [
        {
          "output_type": "stream",
          "name": "stdout",
          "text": [
            "estimate = 1.4142135623746899\n",
            "sqrt(2) = 1.4142135623730951\n"
          ]
        }
      ]
    },
    {
      "cell_type": "markdown",
      "source": [
        "Some potential issues with this method are that, depending on the first guess, it may take many more steps to find a root, or it may find a different root than you intended. If f'(x0) is very small, the error may be very large. Additionally, the root that it outputs may not even be the closest one to the starting point."
      ],
      "metadata": {
        "id": "yeJl0XhuNzVR"
      }
    },
    {
      "cell_type": "markdown",
      "source": [
        "# 19.5 Root Finding in Python\n",
        "Python has built-in root-finding functions, one of which being f_solve. The most important arguments in this are the function you want to find the root of, and the initial guess. This can be multiple guesses in a vector. There are other arguments as well, but they're out of the scope of this section."
      ],
      "metadata": {
        "id": "C8wvJ83TOfYC"
      }
    },
    {
      "cell_type": "code",
      "source": [
        "from scipy.optimize import fsolve\n",
        "f = lambda x: x**3 - 100*x**2 - x + 100\n",
        "fsolve(f, [2, 80])"
      ],
      "metadata": {
        "colab": {
          "base_uri": "https://localhost:8080/"
        },
        "id": "KlkDjmUcO3JV",
        "outputId": "8847fc3a-40bc-440d-fc2d-a58211eef51e"
      },
      "execution_count": 8,
      "outputs": [
        {
          "output_type": "execute_result",
          "data": {
            "text/plain": [
              "array([  1., 100.])"
            ]
          },
          "metadata": {},
          "execution_count": 8
        }
      ]
    }
  ]
}