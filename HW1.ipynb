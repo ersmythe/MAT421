{
  "nbformat": 4,
  "nbformat_minor": 0,
  "metadata": {
    "colab": {
      "provenance": [],
      "authorship_tag": "ABX9TyNdJHRYnyuuO+F4nsOZckfi",
      "include_colab_link": true
    },
    "kernelspec": {
      "name": "python3",
      "display_name": "Python 3"
    },
    "language_info": {
      "name": "python"
    }
  },
  "cells": [
    {
      "cell_type": "markdown",
      "metadata": {
        "id": "view-in-github",
        "colab_type": "text"
      },
      "source": [
        "<a href=\"https://colab.research.google.com/github/ersmythe/MAT421/blob/main/HW1.ipynb\" target=\"_parent\"><img src=\"https://colab.research.google.com/assets/colab-badge.svg\" alt=\"Open In Colab\"/></a>"
      ]
    },
    {
      "cell_type": "markdown",
      "source": [
        "HW1 - Erin Smythe\n",
        "\n"
      ],
      "metadata": {
        "id": "2uKKrzXbPQIU"
      }
    },
    {
      "cell_type": "markdown",
      "source": [
        "# 9.1 Base N and Binary\n",
        "\n",
        "*   We use the decimal system for almost everything, which is base 10\n",
        "*   Computers use binary (base 2) because all math operations using the digits 0 and 1 can be done using AND, OR, and NOT, which are very quick operations for a computer.\n",
        "* There are many other bases, but most are rarely used\n",
        "* Since we use base 10, we (or computers) need to be able to convert between base 10 and binary\n",
        "\n",
        "Decimal Expansion:\n",
        "\n"
      ],
      "metadata": {
        "id": "TrWVJ2_8QKdb"
      }
    },
    {
      "cell_type": "code",
      "source": [
        "# 1354.7 in Base 10\n",
        "1354.7 == 1*(10**3) + 3*(10**2) + 5*(10**1) + 4*(10**0) + 7*(10**-1)"
      ],
      "metadata": {
        "colab": {
          "base_uri": "https://localhost:8080/"
        },
        "id": "kG7ft8aCSJUd",
        "outputId": "33cd168f-48a7-4e57-9eb9-42695f9848e5"
      },
      "execution_count": null,
      "outputs": [
        {
          "output_type": "execute_result",
          "data": {
            "text/plain": [
              "True"
            ]
          },
          "metadata": {},
          "execution_count": 2
        }
      ]
    },
    {
      "cell_type": "markdown",
      "source": [
        "Decimal to Binary:"
      ],
      "metadata": {
        "id": "BhjW8Ud1Snbb"
      }
    },
    {
      "cell_type": "code",
      "source": [
        "# 142 in binary\n",
        "142 == 128 + 8 + 4 + 2\n",
        "142 == 1*(2**7) + 0*(2**6 + 2**5 + 2**4) + 1*(2**3) + 1*(2**2) + 1*(2**1) + 0*(2**0)"
      ],
      "metadata": {
        "colab": {
          "base_uri": "https://localhost:8080/"
        },
        "id": "XfEi7Y8CT5pY",
        "outputId": "b3098135-1728-4d67-97d4-845c06aa59a1"
      },
      "execution_count": null,
      "outputs": [
        {
          "output_type": "execute_result",
          "data": {
            "text/plain": [
              "True"
            ]
          },
          "metadata": {},
          "execution_count": 3
        }
      ]
    },
    {
      "cell_type": "markdown",
      "source": [
        "# 9.2 Floating Point Numbers\n",
        "Binary by itself can only be used for integers, and not a wide range of values. To address this, we needed a standardized way to represent values with fractions, and a wider range in general. This is called floating point, or float for short. Most platforms running Python use IEEE754 double precision, which uses 64 bits. This can be checked as shown:\n"
      ],
      "metadata": {
        "id": "dQk_qQOqZn9r"
      }
    },
    {
      "cell_type": "code",
      "source": [
        "import sys\n",
        "sys.float_info"
      ],
      "metadata": {
        "colab": {
          "base_uri": "https://localhost:8080/"
        },
        "id": "O4Iir9U-kJHu",
        "outputId": "a3752129-15dc-4147-c743-cfdfde300349"
      },
      "execution_count": null,
      "outputs": [
        {
          "output_type": "execute_result",
          "data": {
            "text/plain": [
              "sys.float_info(max=1.7976931348623157e+308, max_exp=1024, max_10_exp=308, min=2.2250738585072014e-308, min_exp=-1021, min_10_exp=-307, dig=15, mant_dig=53, epsilon=2.220446049250313e-16, radix=2, rounds=1)"
            ]
          },
          "metadata": {},
          "execution_count": 12
        }
      ]
    },
    {
      "cell_type": "markdown",
      "source": [
        "In IEEE754, the first bit indicates the sign (s), then 11 bits are allocated to the exponent (e) and the 52 left show the fraction. To normalize the exponent (and therefore allow for very small values as well), we usually subtract 1023. This subtracted value is the bias.\n",
        "The general equation for a float in IEEE754:\n",
        "n=(-1)^s*2^(e-1023)(1+f)"
      ],
      "metadata": {
        "id": "at45wrwLkB4J"
      }
    },
    {
      "cell_type": "code",
      "source": [
        "#1 10000000010 1000000000000000000000000000000000000000000000000000 in decimal\n",
        "s = 1\n",
        "print(\"s = \" + str(s))\n",
        "e = 1*2**10 + 1*2**1\n",
        "print(\"e = \" + str(e))\n",
        "f = 1*2**-1\n",
        "print(\"f = \" + str(f))\n",
        "n = (-1)**s*2**(e-1023)*(1+f)\n",
        "print(\"n = \" + str(n))"
      ],
      "metadata": {
        "colab": {
          "base_uri": "https://localhost:8080/"
        },
        "id": "A3e9TOBfgnDK",
        "outputId": "f7e83b83-d52d-417f-ec8d-38febc90157e"
      },
      "execution_count": null,
      "outputs": [
        {
          "output_type": "stream",
          "name": "stdout",
          "text": [
            "s = 1\n",
            "e = 1026\n",
            "f = 0.5\n",
            "n = -12.0\n"
          ]
        }
      ]
    },
    {
      "cell_type": "markdown",
      "source": [
        "There are gaps in between the numbers that can be written in this way. The closest floats above and below a float can be found by increasing or decreasing the fraction by one. If the exponent is large this difference will be much bigger, whereas it's fairly negligible for smaller numbers. When a number's value falls between two floats, the system rounds it to the nearest float value. The distance between one number and the next is called the gap, and can be found using the the *spacing* function in *numpy*. The example below demonstrates that when a value less than half of the gap is added to a number, the system still considers it to be the same number."
      ],
      "metadata": {
        "id": "X3k0IDf1ks3M"
      }
    },
    {
      "cell_type": "code",
      "source": [
        "import numpy as np\n",
        "np.spacing(1e10)\n",
        "1e10 == 1e10 + np.spacing(1e10)/2.5"
      ],
      "metadata": {
        "colab": {
          "base_uri": "https://localhost:8080/"
        },
        "id": "2Tq__8MomCVK",
        "outputId": "bd48adb3-5991-4c93-dbd4-9b6ec89389f1"
      },
      "execution_count": null,
      "outputs": [
        {
          "output_type": "execute_result",
          "data": {
            "text/plain": [
              "True"
            ]
          },
          "metadata": {},
          "execution_count": 1
        }
      ]
    },
    {
      "cell_type": "markdown",
      "source": [
        "There are special cases for the largest and smallest possible numbers in IEEE754, which are reserved. For numbers with an exponent of zero, they are calculated without adding 1 to the fraction and subtracting 1022 from the exponent. This is called a subnormal number. When the exponent is 2047 and f is nonzero, it generally displays not a number (NaN). When the exponent is 2047 and f is zero and s is 1, it's negative infinity. Numbers too large to be represented are overflow, and are marked as inf. Numbers too small to represent are called underflow, and marked with zero."
      ],
      "metadata": {
        "id": "5uhXbWL8zKwE"
      }
    },
    {
      "cell_type": "code",
      "source": [
        "# Overflow\n",
        "import sys\n",
        "sys.float_info.max*2"
      ],
      "metadata": {
        "colab": {
          "base_uri": "https://localhost:8080/"
        },
        "id": "SELefpmJ0pu0",
        "outputId": "f3786df0-0a95-4ddb-8bc3-ae8a13a9fa5a"
      },
      "execution_count": null,
      "outputs": [
        {
          "output_type": "execute_result",
          "data": {
            "text/plain": [
              "inf"
            ]
          },
          "metadata": {},
          "execution_count": 4
        }
      ]
    },
    {
      "cell_type": "code",
      "source": [
        "# Underflow\n",
        "2**-1075"
      ],
      "metadata": {
        "colab": {
          "base_uri": "https://localhost:8080/"
        },
        "id": "W1UoOLL31CgT",
        "outputId": "44717e59-8976-4f2c-8018-a495d4feba6d"
      },
      "execution_count": null,
      "outputs": [
        {
          "output_type": "execute_result",
          "data": {
            "text/plain": [
              "0.0"
            ]
          },
          "metadata": {},
          "execution_count": 5
        }
      ]
    },
    {
      "cell_type": "markdown",
      "source": [
        "# 9.3 Round-off Errors\n",
        "Representation Error:\n",
        "One type of round-off error is the representation error. This occurs when a number has infinite length, but the program can only store a certain number of digits. This is the case for numbers like pi and 1/6.\n",
        "\n",
        "Floating-point arithmetic also causes errors because the program doesn't store the exact number, but something very close."
      ],
      "metadata": {
        "id": "Z5EEmS8EdPNq"
      }
    },
    {
      "cell_type": "code",
      "source": [
        "5.8 - 5.745 == 0.055"
      ],
      "metadata": {
        "colab": {
          "base_uri": "https://localhost:8080/"
        },
        "id": "Hec-P3nFfUFI",
        "outputId": "20a8042b-317c-4838-c645-f735f2c28cf6"
      },
      "execution_count": 1,
      "outputs": [
        {
          "output_type": "execute_result",
          "data": {
            "text/plain": [
              "False"
            ]
          },
          "metadata": {},
          "execution_count": 1
        }
      ]
    },
    {
      "cell_type": "code",
      "source": [
        "5.8 - 5.745"
      ],
      "metadata": {
        "colab": {
          "base_uri": "https://localhost:8080/"
        },
        "id": "Xi4k8kWCfhtW",
        "outputId": "76e1ec67-4132-4425-e56b-be3d435b1e94"
      },
      "execution_count": 2,
      "outputs": [
        {
          "output_type": "execute_result",
          "data": {
            "text/plain": [
              "0.054999999999999716"
            ]
          },
          "metadata": {},
          "execution_count": 2
        }
      ]
    },
    {
      "cell_type": "markdown",
      "source": [
        "In the example above, the answer calculated is extremely close, but not quite equal to the expected value due to the round-off errors. This can be fixed by using the round function, shown below."
      ],
      "metadata": {
        "id": "hu8ZFGhMfrUZ"
      }
    },
    {
      "cell_type": "code",
      "source": [
        "round(5.8 - 5.745, 5) == round(0.055, 5)"
      ],
      "metadata": {
        "colab": {
          "base_uri": "https://localhost:8080/"
        },
        "id": "DadGtYYHf54U",
        "outputId": "0fa52685-3430-4a03-e5e9-781c8427eca2"
      },
      "execution_count": 3,
      "outputs": [
        {
          "output_type": "execute_result",
          "data": {
            "text/plain": [
              "True"
            ]
          },
          "metadata": {},
          "execution_count": 3
        }
      ]
    },
    {
      "cell_type": "markdown",
      "source": [
        "Accumulating round-off error\n",
        "\n",
        "When an operation is done and undone once, there is generally a no error. However, when it is performed over and over, the tiny round-off errors accumulate and lead to a larger error. This is shown in the example below."
      ],
      "metadata": {
        "id": "1lAyt27jgEC0"
      }
    },
    {
      "cell_type": "code",
      "source": [
        "# Operation done once\n",
        "1 + 5/6 - 5/6"
      ],
      "metadata": {
        "colab": {
          "base_uri": "https://localhost:8080/"
        },
        "id": "QMV7iqF4gXcg",
        "outputId": "e7076a2e-2e6e-4ce7-caf7-878a9df7193a"
      },
      "execution_count": 4,
      "outputs": [
        {
          "output_type": "execute_result",
          "data": {
            "text/plain": [
              "1.0"
            ]
          },
          "metadata": {},
          "execution_count": 4
        }
      ]
    },
    {
      "cell_type": "code",
      "source": [
        "def repeat_operation(iterations):\n",
        "  result = 1\n",
        "\n",
        "  for i in range(iterations):\n",
        "    result +=5/6\n",
        "\n",
        "  for i in range(iterations):\n",
        "    result -= 5/6\n",
        "  return result"
      ],
      "metadata": {
        "id": "TM2MVY3kghSs"
      },
      "execution_count": 13,
      "outputs": []
    },
    {
      "cell_type": "code",
      "source": [
        "# Operation done 100 times\n",
        "repeat_operation(100)"
      ],
      "metadata": {
        "colab": {
          "base_uri": "https://localhost:8080/"
        },
        "id": "YhMhPWKJg0jV",
        "outputId": "10b63b90-5d6f-4170-afa0-4a7d9815ec42"
      },
      "execution_count": 14,
      "outputs": [
        {
          "output_type": "execute_result",
          "data": {
            "text/plain": [
              "0.9999999999999939"
            ]
          },
          "metadata": {},
          "execution_count": 14
        }
      ]
    },
    {
      "cell_type": "code",
      "source": [
        "# Operation done 1000 times\n",
        "repeat_operation(1000)"
      ],
      "metadata": {
        "colab": {
          "base_uri": "https://localhost:8080/"
        },
        "id": "54qubcj5hLtx",
        "outputId": "f5f4b953-74b0-4919-c88c-66cdb981c9af"
      },
      "execution_count": 15,
      "outputs": [
        {
          "output_type": "execute_result",
          "data": {
            "text/plain": [
              "0.9999999999999797"
            ]
          },
          "metadata": {},
          "execution_count": 15
        }
      ]
    },
    {
      "cell_type": "code",
      "source": [
        "# Operation done 10000 times\n",
        "repeat_operation(10000)"
      ],
      "metadata": {
        "colab": {
          "base_uri": "https://localhost:8080/"
        },
        "id": "-fTJ9aiOhQ46",
        "outputId": "d744ec08-d683-481a-85aa-c824dfc81155"
      },
      "execution_count": 16,
      "outputs": [
        {
          "output_type": "execute_result",
          "data": {
            "text/plain": [
              "1.000000000000436"
            ]
          },
          "metadata": {},
          "execution_count": 16
        }
      ]
    }
  ]
}