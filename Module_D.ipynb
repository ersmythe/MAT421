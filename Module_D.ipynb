{
  "nbformat": 4,
  "nbformat_minor": 0,
  "metadata": {
    "colab": {
      "provenance": [],
      "authorship_tag": "ABX9TyO4GMoIICGNhg8ELePdZeaj",
      "include_colab_link": true
    },
    "kernelspec": {
      "name": "python3",
      "display_name": "Python 3"
    },
    "language_info": {
      "name": "python"
    }
  },
  "cells": [
    {
      "cell_type": "markdown",
      "metadata": {
        "id": "view-in-github",
        "colab_type": "text"
      },
      "source": [
        "<a href=\"https://colab.research.google.com/github/ersmythe/MAT421/blob/main/Module_D.ipynb\" target=\"_parent\"><img src=\"https://colab.research.google.com/assets/colab-badge.svg\" alt=\"Open In Colab\"/></a>"
      ]
    },
    {
      "cell_type": "markdown",
      "source": [
        "# 1.1 Introduction to Linear Algebra\n",
        "Linear algebra is commonly used in data science and machine learning. It includes concepts such as vector spaces, orthogonality, eigenvalues, matrix decomposition, and is the basis for linear regression, which is very useful for data science."
      ],
      "metadata": {
        "id": "25GAzEWtfdM8"
      }
    },
    {
      "cell_type": "markdown",
      "source": [
        "## 1.2 Elements of Linear Algebra\n",
        "Linear algebra is made up of V=R^n (R being all real numbers). A linear combination is made by multiplying by constants and adding terms. A linear subspace is a subset closed under scalar multiplication and vector addition. Because it can always be reached by scalar multiplication, 0 is always part of a linear subspace.\n",
        "Span is the set of all linear combinations that can be made from a set. Every span is a linear subspace. A set of vectors that span subspace U are said to be a spannings set of U.\n"
      ],
      "metadata": {
        "id": "7WldJhq6S1It"
      }
    },
    {
      "cell_type": "code",
      "execution_count": null,
      "metadata": {
        "colab": {
          "base_uri": "https://localhost:8080/"
        },
        "id": "uesgGUDuSqhf",
        "outputId": "d012f806-e49a-4f5f-b79b-9774fe00f522"
      },
      "outputs": [
        {
          "output_type": "stream",
          "name": "stdout",
          "text": [
            "[[1 2 3]\n",
            " [4 5 6]\n",
            " [7 8 9]]\n"
          ]
        }
      ],
      "source": [
        "# How to set up a linear algebra array\n",
        "import numpy as np\n",
        "A = np.array([[1,2,3],[4,5,6],[7,8,9]])\n",
        "print(A)"
      ]
    },
    {
      "cell_type": "markdown",
      "source": [
        "Column space is the span of the columns in a matrix.\n",
        "It is good to reduce repetition (and therefore computer space required) for matrices, and this is determined with linear independence.\n",
        "A set of vectors are linearly independent if none can be written as combinations of the others. Another way to test this is to find the determinant. If the determinant of a matrix is nonzero, the vectors (columns) within that matrix are linearly independent. The opposite of this is linearly dependent."
      ],
      "metadata": {
        "id": "c59Prd0ZfGj9"
      }
    },
    {
      "cell_type": "code",
      "source": [
        "# Use determinant to check linear independence\n",
        "import numpy as np\n",
        "A = np.array([[1,2,3],[6,5,6],[7,8,9]])\n",
        "Det = np.linalg.det(A)\n",
        "print(\"Determinant of A =\", Det)\n",
        "if Det != 0:\n",
        "    print(\"Columns of A are linearly independent\")\n",
        "else:\n",
        "    print(\"Columns of A are linearly dependent\")"
      ],
      "metadata": {
        "colab": {
          "base_uri": "https://localhost:8080/"
        },
        "id": "wrVT2wJAHgRd",
        "outputId": "36438033-70cc-49ca-964e-63415b191c4c"
      },
      "execution_count": null,
      "outputs": [
        {
          "output_type": "stream",
          "name": "stdout",
          "text": [
            "Determinant of A = 12.0\n",
            "A is linearly independent\n"
          ]
        }
      ]
    },
    {
      "cell_type": "markdown",
      "source": [
        "A basis of U is a set of vectors within U that span U and are linearly independent. The rank of matrix A is the dimension of the column space of A. Any basis of subspace U has the same number of elements, which is called the dimension of U and written dim(U)"
      ],
      "metadata": {
        "id": "8eVUwGpFHeWb"
      }
    },
    {
      "cell_type": "code",
      "source": [
        "# Finding the rank of A with Python\n",
        "import numpy as np\n",
        "A = np.array([[1, 2, 3], [6, 5, 6], [7, 8, 9]])\n",
        "print(\"Rank of A =\", np.linalg.matrix_rank(A))"
      ],
      "metadata": {
        "colab": {
          "base_uri": "https://localhost:8080/"
        },
        "id": "iwHBPqR8iux1",
        "outputId": "c001cb1f-2538-4521-ed25-1dcd65ed1224"
      },
      "execution_count": null,
      "outputs": [
        {
          "output_type": "stream",
          "name": "stdout",
          "text": [
            "Rank of A = 3\n"
          ]
        }
      ]
    },
    {
      "cell_type": "markdown",
      "source": [
        "Another useful principle is that for a set of linearly dependent vectors, there exists a vector that is a linear combination of the previous ones, and this can be removed without impacting the span.\n",
        "\n",
        "**Orthonormality**\n",
        "\n",
        "It can be desireable to have a set of orthonormal vectors to span a base, because they are each a unit vector in an orthogonal direction. This means that each vector is orthogonal to the others, which can be tested by taking the dot product between each pair of vectors. If the dot product is zero, they are orthogonal. Orthonormal vectors are also one unit long. We can find the norm (length) of a vector by taking the square root of the sum of squares of each component in that vector."
      ],
      "metadata": {
        "id": "Ksc4-05dkEgo"
      }
    },
    {
      "cell_type": "code",
      "source": [
        "import numpy as np\n",
        "A = np.array([[1, 0, 0], [0, 1, 0], [0, 0, 1]])\n",
        "dot01 = np.dot(A[0,:],A[1,:])\n",
        "dot12 = np.dot(A[1,:],A[2,:])\n",
        "dot02 = np.dot(A[0,:],A[2,:])\n",
        "print(\"Dot product of rows 1 and 2 =\", dot01)\n",
        "print(\"Dot product of rows 2 and 3 =\", dot12)\n",
        "print(\"Dot product of rows 1 and 3 =\", dot02)\n",
        "if dot01 == 0 and dot12 == 0 and dot02 == 0:\n",
        "    print(\"Vectors are orthogonal\")\n",
        "else:\n",
        "    print(\"Vectors are not orthogonal\")\n",
        "normA1 = np.linalg.norm(A[0,:])\n",
        "normA2 = np.linalg.norm(A[1,:])\n",
        "normA3 = np.linalg.norm(A[2,:])\n",
        "print(\"Norm of vector row 1 =\", normA1)\n",
        "print(\"Norm of vector row 2 =\", normA2)\n",
        "print(\"Norm of vector row 3 =\", normA3)\n",
        "if dot01 == 0 and dot12 == 0 and dot02 == 0 and normA1 == 1 and normA2 == 1 and normA3 == 1:\n",
        "    print(\"Vectors are orthonormal\")\n",
        "else:\n",
        "    print(\"Vectors are not orthonormal\")\n"
      ],
      "metadata": {
        "colab": {
          "base_uri": "https://localhost:8080/"
        },
        "id": "90haVEt1MS3K",
        "outputId": "2932ed79-db1d-47ba-8422-7144a7b12be1"
      },
      "execution_count": null,
      "outputs": [
        {
          "output_type": "stream",
          "name": "stdout",
          "text": [
            "Dot product of rows 1 and 2 = 0\n",
            "Dot product of rows 2 and 3 = 0\n",
            "Dot product of rows 1 and 3 = 0\n",
            "Vectors are orthogonal\n",
            "Norm of vector row 1 = 1.0\n",
            "Norm of vector row 2 = 1.0\n",
            "Norm of vector row 3 = 1.0\n",
            "Vectors are orthonormal\n"
          ]
        }
      ]
    },
    {
      "cell_type": "markdown",
      "source": [
        "Best Approximation Theorem\n",
        "\n",
        "We often have a vector not in subspace U and want to find the closest vector approximation to it that is within U. This is the same as vector projection. Let v be the vector not in U, and let v' be the approximation. Let u1 be the span of subspace U (it's only one dimensional). Then v' = dot(u1,v)*u1. The dot product gives the scalar amount of v that is in the direction of u1, and multiplying by u1 gives the direction back.\n",
        "\n",
        "More general case: Let U be a linear subspace with orthonormal basis q1,...,qm. The orthogonal projection of v (not part of U) onto U is given by the sum from j=1 to m of dot(v,qj)*qj."
      ],
      "metadata": {
        "id": "zHdDZWQKOoL2"
      }
    },
    {
      "cell_type": "code",
      "source": [
        "import numpy as np\n",
        "q1 = np.array([1,0,0])\n",
        "q2 = np.array([0,1,0])\n",
        "v = np.array([3,6,7])\n",
        "proj = np.dot(v,q1)*q1 + np.dot(v,q2)*q2\n",
        "print(\"Projection of v onto U =\", proj)\n"
      ],
      "metadata": {
        "colab": {
          "base_uri": "https://localhost:8080/"
        },
        "id": "GuT0rQ4eQT3c",
        "outputId": "cb286927-c191-40bf-fbd1-686627045e6f"
      },
      "execution_count": null,
      "outputs": [
        {
          "output_type": "stream",
          "name": "stdout",
          "text": [
            "Projection of v onto U = [3 6 0]\n"
          ]
        }
      ]
    },
    {
      "cell_type": "markdown",
      "source": [
        "Eigenvalues and Eigenvectors\n",
        "\n",
        "Let A be an nxn matrix. Then lambda is an eigenvalue of A if there is a nonzero vector such that A*x = lambda*x. x is an eigenvector, and corresponds to a certain eigenvalue. Not every matrix A has eigenvalues/vectors. The number of eigenvalues/vectors is always equal to or less than the dimensions of the matrix A."
      ],
      "metadata": {
        "id": "Gs0jjjnVSlwj"
      }
    },
    {
      "cell_type": "code",
      "source": [
        "import numpy as np\n",
        "A = np.array([[4, 4, 8],\n",
        "              [1, 3, 5],\n",
        "              [4, 6, 8]])\n",
        "w,v=np.linalg.eig(A)\n",
        "print(\"eigenvalues =\", w)\n",
        "print(\"eigenvectors =\", v)\n"
      ],
      "metadata": {
        "colab": {
          "base_uri": "https://localhost:8080/"
        },
        "id": "U0qqfObNUaGo",
        "outputId": "00ad9ea5-a296-4031-89cb-c4266181d60c"
      },
      "execution_count": null,
      "outputs": [
        {
          "output_type": "stream",
          "name": "stdout",
          "text": [
            "eigenvalues = [14.75419492  1.40421478 -1.1584097 ]\n",
            "eigenvectors = [[-0.63944074 -0.82362825 -0.46991942]\n",
            " [-0.34637942  0.56689853 -0.63018423]\n",
            " [-0.68639409 -0.01620401  0.61809673]]\n"
          ]
        }
      ]
    },
    {
      "cell_type": "markdown",
      "source": [
        "Diagonalization\n",
        "\n",
        "We often want to diagonalize matrices, that is, change them so that they only have nonzero terms along the diagonal. A matrix can be diagonalized if there is a diagonal matrix D and orthonormal matrix P such that A=PDP'. (' means transpose)\n",
        "\n",
        "A symmetrical matrix has these properties:\n",
        "\n",
        "\n",
        "*   n real eigenvalues (including repeated values)\n",
        "*   The eigenspace for lambda is k-dimensional if lambda is is repeated k times\n",
        "*   Eigenspaces are orthogonal\n",
        "*   A is diagonalizable\n",
        "\n"
      ],
      "metadata": {
        "id": "_48L-63jVbaQ"
      }
    },
    {
      "cell_type": "markdown",
      "source": [
        "# 1.3 Linear Regression\n",
        "A linear regression can be found using the least squares method. This can be solved using QR decomposition, which starts by using the Gram-Schmidt algorithm to define an orthonormal basis.\n",
        "\n",
        "Let A be a matrix with m linearly independent columns that span a subspace. There exists a matrix Q with m column vectors that make up the orthonormal basis for span(A). The Gram-Schmidt method finds Q using the equation A=QR (hence why it's called QR decomposition). R is an upper-triangular matrix.\n"
      ],
      "metadata": {
        "id": "GekM1xaoZYSV"
      }
    },
    {
      "cell_type": "markdown",
      "source": [
        "The least squares method is used to find a line of best fit for overdetermined systems of equations (when the matrix of data A is taller than it is wide). Using the QR decomposition method, the least squares solution takes the form $Rx=Q^Tb$."
      ],
      "metadata": {
        "id": "IMtN30mudida"
      }
    },
    {
      "cell_type": "code",
      "source": [
        "import numpy as np\n",
        "from scipy import optimize\n",
        "import matplotlib.pyplot as plt\n",
        "\n",
        "x = np.linspace(0, 1, 101)\n",
        "y = 1 + x + x*np.random.random(len(x))\n",
        "A = np.vstack([x, np.ones(len(x))]).T\n",
        "y = y[:, np.newaxis]\n",
        "\n",
        "alpha = np.linalg.lstsq(A, y, rcond=None)[0]\n",
        "print(alpha)\n",
        "\n",
        "plt.figure(figsize = (10,8))\n",
        "plt.plot(x, y, 'b.')\n",
        "plt.plot(x, alpha[0]*x + alpha[1], 'r')\n",
        "plt.xlabel('x')\n",
        "plt.ylabel('y')\n",
        "plt.show()\n"
      ],
      "metadata": {
        "colab": {
          "base_uri": "https://localhost:8080/",
          "height": 731
        },
        "id": "2Kx5T8c4f3xH",
        "outputId": "beb6782e-9e99-4ede-c51b-d16b1fad1e64"
      },
      "execution_count": 2,
      "outputs": [
        {
          "output_type": "stream",
          "name": "stdout",
          "text": [
            "[[1.50995448]\n",
            " [0.97441269]]\n"
          ]
        },
        {
          "output_type": "display_data",
          "data": {
            "text/plain": [
              "<Figure size 1000x800 with 1 Axes>"
            ],
            "image/png": "[encoded data removed]"
          },
          "metadata": {}
        }
      ]
    }
  ]
}